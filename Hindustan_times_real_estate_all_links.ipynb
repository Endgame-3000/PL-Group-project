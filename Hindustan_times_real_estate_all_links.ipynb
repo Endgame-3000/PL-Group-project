{
 "cells": [
  {
   "cell_type": "code",
   "execution_count": 1,
   "metadata": {},
   "outputs": [],
   "source": [
    "import requests"
   ]
  },
  {
   "cell_type": "code",
   "execution_count": 2,
   "metadata": {},
   "outputs": [],
   "source": [
    "from bs4 import BeautifulSoup as bs\n",
    "import json"
   ]
  },
  {
   "cell_type": "code",
   "execution_count": 3,
   "metadata": {},
   "outputs": [],
   "source": [
    "res=requests.get(\"https://www.hindustantimes.com/real-estate/\")"
   ]
  },
  {
   "cell_type": "code",
   "execution_count": 4,
   "metadata": {},
   "outputs": [],
   "source": [
    "soup=bs(res.text,\"html.parser\")"
   ]
  },
  {
   "cell_type": "code",
   "execution_count": 5,
   "metadata": {},
   "outputs": [
    {
     "data": {
      "text/plain": [
       "bs4.BeautifulSoup"
      ]
     },
     "execution_count": 5,
     "metadata": {},
     "output_type": "execute_result"
    }
   ],
   "source": [
    "type(soup)                        "
   ]
  },
  {
   "cell_type": "code",
   "execution_count": 6,
   "metadata": {},
   "outputs": [],
   "source": [
    "title=soup.select(\"title\")"
   ]
  },
  {
   "cell_type": "code",
   "execution_count": 10,
   "metadata": {},
   "outputs": [
    {
     "data": {
      "text/plain": [
       "[<title>Real Estate News, Property News, Residential and Commercial Property News | Hindustan Times</title>]"
      ]
     },
     "execution_count": 10,
     "metadata": {},
     "output_type": "execute_result"
    }
   ],
   "source": [
    "title"
   ]
  },
  {
   "cell_type": "code",
   "execution_count": 12,
   "metadata": {
    "scrolled": true
   },
   "outputs": [
    {
     "name": "stdout",
     "output_type": "stream",
     "text": [
      "https://www.hindustantimes.com/real-estate/mp-government-relaxes-license-norms-for-real-estate-sector/story-N6QjVS19RI9cir99z93fxH.html\n",
      "https://www.hindustantimes.com/real-estate/german-banks-cool-on-uk-office-lending-as-brexit-chaos-bites/story-He6glMOtNr5ACUtllxrSoN.html\n",
      "https://www.hindustantimes.com/real-estate/german-banks-cool-on-uk-office-lending-as-brexit-chaos-bites/story-He6glMOtNr5ACUtllxrSoN.html\n",
      "https://www.hindustantimes.com/real-estate/world-s-first-major-co-living-fund-seeks-825-million-in-pledges/story-fx0ivtwpESxCBoamsbDfEI.html\n",
      "https://www.hindustantimes.com/real-estate/world-s-first-major-co-living-fund-seeks-825-million-in-pledges/story-fx0ivtwpESxCBoamsbDfEI.html\n",
      "https://www.hindustantimes.com/real-estate/housing-society-can-t-be-forced-to-participate-in-cluster-development-bombay-hc/story-8exP0D4gxUwJY7BLaboHSP.html\n",
      "https://www.hindustantimes.com/real-estate/housing-society-can-t-be-forced-to-participate-in-cluster-development-bombay-hc/story-8exP0D4gxUwJY7BLaboHSP.html\n",
      "https://www.hindustantimes.com/real-estate/up-real-estate-authority-goes-online-e-courts-from-november/story-k8CJNxXK601VKwTPwnEriN.html\n",
      "https://www.hindustantimes.com/real-estate/up-real-estate-authority-goes-online-e-courts-from-november/story-k8CJNxXK601VKwTPwnEriN.html\n",
      "https://www.hindustantimes.com/real-estate/housing-sales-dips-18-per-cent-in-july-september-quarter-across-top-7-cities-report/story-ahZ2lWk0xiRc5R3CSDsYTO.html\n",
      "https://www.hindustantimes.com/real-estate/housing-sales-dips-18-per-cent-in-july-september-quarter-across-top-7-cities-report/story-ahZ2lWk0xiRc5R3CSDsYTO.html\n",
      "https://www.hindustantimes.com/real-estate/brexit-takes-wrecking-ball-to-british-housing-market/story-rdbnE5oLqJRhh1FxJnWYnL.html\n",
      "https://www.hindustantimes.com/real-estate/brexit-takes-wrecking-ball-to-british-housing-market/story-rdbnE5oLqJRhh1FxJnWYnL.html\n",
      "https://www.hindustantimes.com/real-estate/indiabulls-issued-notice-by-delhi-hc-over-alleged-illegalities-and-violations/story-BsjALpvxl9ElqvHPMHJYFL.html\n",
      "https://www.hindustantimes.com/real-estate/indiabulls-issued-notice-by-delhi-hc-over-alleged-illegalities-and-violations/story-BsjALpvxl9ElqvHPMHJYFL.html\n",
      "https://www.hindustantimes.com/real-estate/india-poshest-areas-data-reveals-tardeo-and-other-surprises/story-rGEijEXdtnQJbU5RuAJQFL.html\n",
      "https://www.hindustantimes.com/real-estate/india-poshest-areas-data-reveals-tardeo-and-other-surprises/story-rGEijEXdtnQJbU5RuAJQFL.html\n",
      "https://www.hindustantimes.com/real-estate/shaped-by-the-metro-how-connectivity-boots-real-estate/story-u7NAlHRRqmRh9r15HzibOO.html\n",
      "https://www.hindustantimes.com/real-estate/shaped-by-the-metro-how-connectivity-boots-real-estate/story-u7NAlHRRqmRh9r15HzibOO.html\n",
      "https://www.hindustantimes.com/real-estate/housing-sales-dips-18-per-cent-in-july-september-quarter-across-top-7-cities-report/story-ahZ2lWk0xiRc5R3CSDsYTO.html\n",
      "https://www.hindustantimes.com/real-estate/housing-sales-dips-18-per-cent-in-july-september-quarter-across-top-7-cities-report/story-ahZ2lWk0xiRc5R3CSDsYTO.html\n",
      "https://www.hindustantimes.com/real-estate/brexit-takes-wrecking-ball-to-british-housing-market/story-rdbnE5oLqJRhh1FxJnWYnL.html\n",
      "https://www.hindustantimes.com/real-estate/brexit-takes-wrecking-ball-to-british-housing-market/story-rdbnE5oLqJRhh1FxJnWYnL.html\n",
      "https://www.hindustantimes.com/real-estate/residents-go-with-the-flow-use-smart-tech-to-save-water/story-FC3xgJJ8HDTkWkTPiJrgtO.html\n",
      "https://www.hindustantimes.com/real-estate/residents-go-with-the-flow-use-smart-tech-to-save-water/story-FC3xgJJ8HDTkWkTPiJrgtO.html\n",
      "https://www.hindustantimes.com/real-estate/indiabulls-issued-notice-by-delhi-hc-over-alleged-illegalities-and-violations/story-BsjALpvxl9ElqvHPMHJYFL.html\n",
      "https://www.hindustantimes.com/real-estate/indiabulls-issued-notice-by-delhi-hc-over-alleged-illegalities-and-violations/story-BsjALpvxl9ElqvHPMHJYFL.html\n",
      "https://www.hindustantimes.com/real-estate/what-nris-should-watch-out-for-when-investing-in-indian-real-estate/story-b0nsCND5yV81SvgukYXNUK.html\n",
      "https://www.hindustantimes.com/real-estate/what-nris-should-watch-out-for-when-investing-in-indian-real-estate/story-b0nsCND5yV81SvgukYXNUK.html\n",
      "https://www.hindustantimes.com/real-estate/real-estate-moving-towards-smaller-homes-across-india-report/story-rv8B9uQ74TrajfB3JVaLNO.html\n",
      "https://www.hindustantimes.com/real-estate/real-estate-moving-towards-smaller-homes-across-india-report/story-rv8B9uQ74TrajfB3JVaLNO.html\n",
      "https://www.hindustantimes.com/real-estate/samajwadi-awas-awaiting-buyers-gda-writes-to-state-officials-to-decide-cost-of-flats/story-pu4Nk2BLpolOXFfEbGki3I.html\n",
      "https://www.hindustantimes.com/real-estate/samajwadi-awas-awaiting-buyers-gda-writes-to-state-officials-to-decide-cost-of-flats/story-pu4Nk2BLpolOXFfEbGki3I.html\n",
      "https://www.hindustantimes.com/real-estate/us-real-estate-sales-to-chinese-buyers-to-hit-8-year-low-report/story-3XJTrEcV8zVGhEQrybDatI.html\n",
      "https://www.hindustantimes.com/real-estate/us-real-estate-sales-to-chinese-buyers-to-hit-8-year-low-report/story-3XJTrEcV8zVGhEQrybDatI.html\n",
      "https://www.hindustantimes.com/real-estate/hotel-stocks-rally-up-to-9-percent-on-gst-rate-cut/story-T9DKmEUXj78SdQmfX6BZ8O.html\n",
      "https://www.hindustantimes.com/real-estate/hotel-stocks-rally-up-to-9-percent-on-gst-rate-cut/story-T9DKmEUXj78SdQmfX6BZ8O.html\n",
      "https://www.hindustantimes.com/real-estate/in-un-building-donald-trump-sees-a-real-estate-deal-that-got-away/story-zoRCT8eXziIeSTsSQE0gHI.html\n",
      "https://www.hindustantimes.com/real-estate/in-un-building-donald-trump-sees-a-real-estate-deal-that-got-away/story-zoRCT8eXziIeSTsSQE0gHI.html\n",
      "https://www.hindustantimes.com/real-estate/godrej-construction-to-focus-more-on-infra-as-realty-sector-slowdown-bites-more/story-8YmvZ3zwpPe2NyOkSNvkuL.html\n",
      "https://www.hindustantimes.com/real-estate/godrej-construction-to-focus-more-on-infra-as-realty-sector-slowdown-bites-more/story-8YmvZ3zwpPe2NyOkSNvkuL.html\n"
     ]
    }
   ],
   "source": [
    "l=[]\n",
    "for link in soup.select(\"a\",href=True):\n",
    "    if (\"https://www.hindustantimes.com/real-estate\" in link['href']):\n",
    "        l.append(link['href'])\n",
    "        print(link['href'])"
   ]
  },
  {
   "cell_type": "code",
   "execution_count": 20,
   "metadata": {},
   "outputs": [],
   "source": [
    "s=json.dumps(l)\n",
    "with open(\"links.json\",\"w\") as f:\n",
    "    json.dump(s,f)\n"
   ]
  },
  {
   "cell_type": "code",
   "execution_count": 50,
   "metadata": {},
   "outputs": [],
   "source": [
    "f=open('Aricles.text','w')\n",
    "f.write('Following are the Articles on Hindustan Times Newspaper:-\\n\\n')\n",
    "for li in l:\n",
    "    article=requests.get(li)\n",
    "    cont=article.content\n",
    "    doc=bs(cont,\"html.parser\")\n",
    "    Heading=doc.find(\"h1\")\n",
    "    title=Heading.text\n",
    "    Division=(doc.find_all(\"div\",{\"class\": \"storyDetail\"}))\n",
    "    docu=\"\"\n",
    "    for lw in Division:\n",
    "        par=lw.find_all(\"p\")\n",
    "        f.write('\\n\\n'+title)\n",
    "        for t in par:\n",
    "            f.write('\\n'+t.text)\n",
    "f.close()"
   ]
  },
  {
   "cell_type": "code",
   "execution_count": null,
   "metadata": {},
   "outputs": [],
   "source": []
  },
  {
   "cell_type": "code",
   "execution_count": 14,
   "metadata": {},
   "outputs": [],
   "source": [
    "df=json.dumps(data,indent=4,default=str)\n",
    "with open(\"scrape.json\",\"w\") as d:\n",
    "    json.dump(df,d)"
   ]
  },
  {
   "cell_type": "code",
   "execution_count": 18,
   "metadata": {},
   "outputs": [
    {
     "name": "stdout",
     "output_type": "stream",
     "text": [
      "https://sb.scorecardresearch.com/p?c1=2&c2=6035286&cv=2.0&cj=1\n",
      "https://q.quora.com/_/ad/18d72aacafe84701a5b30e418a8a6611/pixel?tag=ViewContent&noscript=1\n",
      "https://www.hindustantimes.com/images/app-images/ht/logo-big-cm.png\n",
      "https://www.hindustantimes.com/images/app-images/ht/source_weather-cm.png\n",
      "https://www.hindustantimes.com/images/app-images/ht/htlogo.png\n",
      "https://www.hindustantimes.com/rf/image_size_630x354/HT/p2/2019/10/16/Pictures/scindia-calls-on-nath_25c16060-efd7-11e9-be9e-d0f913dac911.jpg\n",
      "https://www.hindustantimes.com/rf/image_size_90x90/HT/p2/2019/10/16/Pictures/aniruddha-photo-bombay-chowdhury-estate-photo-construction_a6a1da56-f014-11e9-a269-0317b040ce03.jpg\n",
      "https://www.hindustantimes.com/rf/image_size_90x90/HT/p2/2019/10/14/Pictures/real-estate-metro_fca8e534-ee43-11e9-8e48-0fd2949bd28d.jpg\n",
      "https://www.hindustantimes.com/rf/image_size_90x90/HT/p2/2019/10/08/Pictures/bombay-high-court_e5b9d260-e994-11e9-8d06-17233a3ef1ac.jpg\n",
      "https://www.hindustantimes.com/rf/image_size_90x90/HT/p2/2019/10/05/Pictures/_e300fbbc-e727-11e9-a8aa-54897fdfe8ad.jpg\n",
      "https://www.hindustantimes.com/rf/image_size_90x90/HT/p2/2019/09/30/Pictures/gurugram-expressway-gurugram-hindustan-thursday-project-residential_6e77d842-e35d-11e9-939f-ba4a7f73df5c.JPG\n",
      "https://www.hindustantimes.com/rf/image_size_90x90/HT/p2/2019/09/29/Pictures/shard-london-bridge_70a37022-e27c-11e9-b0cd-667d8786d605.jpg\n",
      "https://www.hindustantimes.com/rf/image_size_90x90/HT/p2/2019/09/28/Pictures/xxx_03544332-e1b6-11e9-b0cd-667d8786d605.jpg\n",
      "https://www.hindustantimes.com/rf/image_size_300x169/HT/p2/2019/10/11/Pictures/poster_91f1b28a-ec0d-11e9-8d06-17233a3ef1ac.jpg\n",
      "https://www.hindustantimes.com/rf/image_size_300x169/HT/p2/2019/10/03/Pictures/tuesday-overbridge-ceremony-himanshu-hindustan-elevated-rajasthan_cc5094ee-e5ca-11e9-939f-ba4a7f73df5c.jpg\n",
      "https://www.hindustantimes.com/rf/image_size_300x169/HT/p2/2019/09/30/Pictures/gurugram-expressway-gurugram-hindustan-thursday-project-residential_6c1472fe-e35d-11e9-939f-ba4a7f73df5c.JPG\n",
      "https://www.hindustantimes.com/rf/image_size_300x169/HT/p2/2019/09/29/Pictures/shard-london-bridge_6d4807e4-e27c-11e9-b0cd-667d8786d605.jpg\n",
      "https://www.hindustantimes.com/rf/image_size_300x169/HT/p2/2019/09/27/Pictures/city-and-sustainability-design-vector-ilustration_cc65cfce-e126-11e9-a910-fb95b571a1f5.jpg\n",
      "https://www.hindustantimes.com/rf/image_size_300x169/HT/p2/2019/09/28/Pictures/xxx_0be8b596-e1b6-11e9-b0cd-667d8786d605.jpg\n",
      "https://www.hindustantimes.com/rf/image_size_300x169/HT/p2/2019/09/25/Pictures/_6aae57ae-df5c-11e9-93be-d8edb8f85faf.jpg\n",
      "https://www.hindustantimes.com/rf/image_size_300x169/HT/p2/2019/09/25/Pictures/_83191e98-df55-11e9-93be-d8edb8f85faf.jpg\n",
      "https://www.hindustantimes.com/rf/image_size_300x169/HT/p2/2019/09/24/Pictures/supreme-wishtown-project-jaypee-insolvency-stalled-against_9b10a2e6-de88-11e9-a910-fb95b571a1f5.jpg\n",
      "https://www.hindustantimes.com/rf/image_size_300x169/HT/p2/2019/09/24/Pictures/real-estate_ed28fee6-de85-11e9-a910-fb95b571a1f5.JPG\n",
      "https://www.hindustantimes.com/rf/image_size_300x169/HT/p2/2019/09/23/Pictures/singapore-us-trump-north-korea_238dfec4-ddf4-11e9-b0cd-667d8786d605.jpg\n",
      "https://www.hindustantimes.com/rf/image_size_300x169/HT/p2/2019/09/23/Pictures/_881b32fc-ddd2-11e9-a910-fb95b571a1f5.jpg\n",
      "https://www.hindustantimes.com/rf/image_size_300x169/HT/p2/2019/09/23/Pictures/conference-minister-president-washington-joint-australia-morrison_83d8aef2-ddc0-11e9-99da-c4edc6fcabc7.jpg\n",
      "https://www.hindustantimes.com/rf/image_size_300x169/HT/p2/2019/09/22/Pictures/real-estate_afb494a2-dd32-11e9-89b8-e15e15df329c.JPG\n",
      "https://www.hindustantimes.com/rf/image_size_300x169/HT/p2/2019/09/22/Pictures/development-developer-september-apartments-ghaziabad-ghaziabad-september_a00a28b2-dd2f-11e9-89b8-e15e15df329c.jpg\n",
      "https://www.hindustantimes.com/res/images/ht-copy.png\n"
     ]
    }
   ],
   "source": [
    "imglinks=[]\n",
    "for images in soup.find_all('img'):\n",
    "    print(images.get('src'))\n",
    "    imglinks.append(images.get('src'))"
   ]
  },
  {
   "cell_type": "code",
   "execution_count": 19,
   "metadata": {},
   "outputs": [],
   "source": [
    "with open(\"ht_images.png\",'wb') as w:\n",
    "    for i in imglinks:\n",
    "        a=requests.get(i)\n",
    "        w.write(a.content)"
   ]
  },
  {
   "cell_type": "code",
   "execution_count": 52,
   "metadata": {},
   "outputs": [],
   "source": [
    "f=open('image_links.text','w')\n",
    "for i in imglinks:\n",
    "    f.write('\\n'+i)\n",
    "f.close()"
   ]
  },
  {
   "cell_type": "code",
   "execution_count": 27,
   "metadata": {},
   "outputs": [],
   "source": [
    "f=open('links.text','w')\n",
    "f.write('Following are the links on Hindustan Times Newspaper:-\\n\\n')\n",
    "for i in l:\n",
    "    f.write(' \\n\\n'+i)\n",
    "f.close()"
   ]
  },
  {
   "cell_type": "code",
   "execution_count": 42,
   "metadata": {},
   "outputs": [],
   "source": [
    "\n",
    "for i in data:\n",
    "    f.write('\\n\\n\\nTitle:-'+data[i]['Title'])\n",
    "f.close()"
   ]
  },
  {
   "cell_type": "code",
   "execution_count": null,
   "metadata": {},
   "outputs": [],
   "source": []
  },
  {
   "cell_type": "code",
   "execution_count": null,
   "metadata": {},
   "outputs": [],
   "source": []
  }
 ],
 "metadata": {
  "kernelspec": {
   "display_name": "Python 3",
   "language": "python",
   "name": "python3"
  },
  "language_info": {
   "codemirror_mode": {
    "name": "ipython",
    "version": 3
   },
   "file_extension": ".py",
   "mimetype": "text/x-python",
   "name": "python",
   "nbconvert_exporter": "python",
   "pygments_lexer": "ipython3",
   "version": "3.7.3"
  }
 },
 "nbformat": 4,
 "nbformat_minor": 2
}
